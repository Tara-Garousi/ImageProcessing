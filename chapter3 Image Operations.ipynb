{
 "cells": [
  {
   "cell_type": "markdown",
   "id": "419c26fa-9146-41f4-a21b-498448c6d017",
   "metadata": {},
   "source": [
    "__contents:__\n",
    "\n",
    "1. [Morphological operations on images](#Morphological)\n",
    "   - 1.1. [Erosion](#Erosion)\n",
    "   - 1.2. [Dilation](#Dilation)\n",
    "   - 1.3. [Opening](#Opening)\n",
    "   - 1.4. [Cv2.morphologyex()](#Cv2.morphologyex())\n"
   ]
  },
  {
   "cell_type": "markdown",
   "id": "b00df9a3-b53f-44b9-b584-ef442afd1abb",
   "metadata": {},
   "source": [
    "# <h2 style = \"color: blue;\"> 1.Morphological operations on images <a id = 'Morphological'></a></h2>\n"
   ]
  },
  {
   "cell_type": "markdown",
   "id": "29263205-cdb7-4d0f-812b-7ee6e955863d",
   "metadata": {},
   "source": [
    "<font color='#808080'>\n",
    "    \n",
    "Morphological operations are a fundamental set of operations in image processing that allow us to manipulate the shape and structure of images. Morphological operations are generally performed on binary images. Morphological operations are performed using a structuring element, or kernel, by applying it to an input image and producing a different image as an output."
   ]
  },
  {
   "cell_type": "markdown",
   "id": "fc6d3b04-f2c3-4d61-ab12-16a0a039bdfd",
   "metadata": {},
   "source": [
    "## <h2 style=\"color: blue;\"> 1.1.Erosion <a id='Erosion'></a></h2>"
   ]
  },
  {
   "cell_type": "markdown",
   "id": "47303daa-f465-4574-8b19-ce02c1918b39",
   "metadata": {},
   "source": [
    "<font color='#808080'>\n",
    "    \n",
    "Erosion is a morphological operation that involves reducing the size of the object in an image.\n",
    "We can also use erosion to remove small objects in our image, such as removing salt and pepper noise by eroding the unwanted noise pixels.\n",
    "Erosion works by initializing a structuring element and passing this structuring element over each pixel of the image. The area under the structuring element is considered for the operation:\n",
    "* If all the pixels inside the area are __greater than zero__, then the value is changed to __$255$__.\n",
    "* If the pixels within the area __are not all greater than zero__, they are set to __$0$__."
   ]
  },
  {
   "cell_type": "markdown",
   "id": "ffae0235-961e-48cb-b307-1d58c33b3ef4",
   "metadata": {},
   "source": [
    "<font color='#808080'>\n",
    "    \n",
    "For a better explanation of the concept, we can take a small matrix signifying an image and apply a sample __$3 \\times 3$__ kernel to it. Let us try to visualize how erosion operation works on a __$10 \\times 10$__ matrix:"
   ]
  },
  {
   "cell_type": "markdown",
   "id": "353bdad3-5883-42ae-851b-138dd50a8628",
   "metadata": {},
   "source": [
    "<div style=\"text-align: center;\">\n",
    "    \n",
    "  <img src=\"erosion.png\" alt=\"Jupyter Logo\" width=\"500\">\n",
    "  \n",
    "</div>"
   ]
  },
  {
   "cell_type": "markdown",
   "id": "4e3be458-c840-4f11-a54d-0d9b5745e7c8",
   "metadata": {},
   "source": [
    "<div style=\"text-align: center;\">\n",
    "    <img src=\"conv.gif\" alt=\"My GIF\" />\n",
    "</div>"
   ]
  },
  {
   "cell_type": "markdown",
   "id": "0104ce9e-5da9-4aa6-a4df-8c287b7cd389",
   "metadata": {},
   "source": [
    "<font color='#808080'>\n",
    "    \n",
    "we use ```cv2.Erode()``` to operate erosion in opencv:\n",
    "```python\n",
    "cv2.erode(src, kernel = '3x3 numpy array with all elements as 1', dst, anchor = (-1,-1), iterations = 1, borderType = cv2.BORDER_CONSTANT, borderValue = 0)\n",
    "```\n",
    "__Parameters:__\n",
    "* ```src:``` The source image to be used for erosion.\n",
    "* ```kernel:``` This is the structuring element to be used for erosion. The default value for this is a __$3 /times 3$__ structuring element with all values set as __$1$__.\n",
    "* ```dst:``` Output variable.\n",
    "* ```anchor:``` The anchor is the pixel used as the reference point for the operation to be performed on the surrounding pixels. This is an optional parameter with a default value of __$(-1 , -1)$__ meaning that the anchor is at the center of the kernel.\n",
    "* ```iterations:``` The number of times erosion will be applied to the image. This is with the default value defined as __$1$__.\n",
    "* ```borderType:``` This is the pixel extrapolation method, an optional parameter with a default value of __cv2.BORDER_CONSTANT__.\n",
    "* ```borderValue:``` This is used only with __cv2.BORDER_CONSTANT__ mode and specifies the constant value used to pad the image. It has a default value of __$0$__."
   ]
  },
  {
   "cell_type": "code",
   "execution_count": 2,
   "id": "efa69e0a-e440-4b61-8ae1-d28be929b6a6",
   "metadata": {},
   "outputs": [],
   "source": [
    "import cv2\n",
    "import numpy as np\n",
    "img = cv2.imread('figErosion.png')\n",
    "# Apply erosion once to remove noise\n",
    "kernel = np.ones((5,5) , np.uint8)\n",
    "img1 = cv2.erode(img , kernel, iterations = 1)\n",
    "# Apply erosion multiple times to show bad result\n",
    "img2 = cv2.erode(img, kernel, iterations = 10)\n",
    "cv2.imshow('Original Image', img)\n",
    "cv2.imshow('Erosion', img1)\n",
    "cv2.imshow('Over Erosion', img2)\n",
    "cv2.waitKey(0)\n",
    "cv2.destroyAllWindows()"
   ]
  },
  {
   "cell_type": "markdown",
   "id": "fa980402-91ba-4425-85a5-d37d87081bbd",
   "metadata": {},
   "source": [
    "## <h2 style=\"color: blue;\"> 1.2.Dilation <a id='Dilation'></a></h2>"
   ]
  },
  {
   "cell_type": "markdown",
   "id": "4240b7cb-ab9a-4750-927d-1b3920ad5219",
   "metadata": {},
   "source": [
    "<font color='#808080'>\n",
    "\n",
    "Dilation is a morphological operation that involves increasing the size of the object in the image. It is the opposite of erosion. Dilation can be used to enhance the boundaries of an object in an image or fill the gaps between two objects. dilation increases the size of an object by adding pixels near the boundaries of that object.\n",
    "Similar to erosion, dilation also works by initializing a structuring element and passing this structuring element over each pixel of the image. The area of the image lying under the structuring element is operated:\n",
    "* If any of the pixels inside are greater than __$0$__, then the value is changed to __$255$__.\n",
    "* If there are no pixels inside the area of the structuring element, the point is set to __$0$__."
   ]
  },
  {
   "cell_type": "markdown",
   "id": "bdafc571-3b63-47c0-8ac1-add9de891657",
   "metadata": {},
   "source": [
    "<div style=\"text-align: center;\">\n",
    "    \n",
    "  <img src=\"dilation.png\" alt=\"Jupyter Logo\" width=\"500\">\n",
    "  \n",
    "</div>\n"
   ]
  },
  {
   "cell_type": "markdown",
   "id": "eb184ddf-bc4a-4100-a4df-358fe954d9ca",
   "metadata": {},
   "source": [
    "<font color='#808080'>\n",
    "\n",
    "we use ```cv2.Dilate()``` to operate dilation as below:\n",
    "```python\n",
    "cv2.dilate(src, kernel = '3x3 numpy array with all elements as 1' , dst , anchor = (-1,-1), iterations = 1 , borderType = cv2.BORDER_CONSTANT, borderValue = 0)\n",
    "```\n",
    "__Parameters:__\n",
    "* ```src:``` The source image to be used for erosion.\n",
    "* ```kernel:``` This is the structuring element to be used for erosion. The default value for this is a __$3 /times 3$__ structuring element with all values set as __$1$__.\n",
    "* ```dst:``` Output variable.\n",
    "* ```anchor:``` The anchor is the pixel used as the reference point for the operation to be performed on the surrounding pixels. This is an optional parameter with a default value of __$(-1 , -1)$__ meaning that the anchor is at the center of the kernel.\n",
    "* ```iterations:``` The number of times erosion will be applied to the image. This is with the default value defined as 1.\n",
    "* ```borderType:``` This is the pixel extrapolation method, an optional parameter with a default value of ```cv2.BORDER_CONSTANT```.\n",
    "* ```borderValue:``` This is used only with ```cv2.BORDER_CONSTANT``` mode and specifies the constant value used to pad the image. It has a default value of __$0$__."
   ]
  },
  {
   "cell_type": "code",
   "execution_count": 3,
   "id": "7b3e6f83-0e3a-4f69-8ed0-9012b1b0de86",
   "metadata": {},
   "outputs": [],
   "source": [
    "import cv2\n",
    "import numpy as np\n",
    "img = cv2.imread('figDilation.png')\n",
    "# Apply erosion once to remove noise\n",
    "kernel = np.ones((5,5) , np.uint8)\n",
    "img1 = cv2.dilate(img, kernel, iterations = 1)\n",
    "# Apply erosion multiple times to show bad result\n",
    "img2 = cv2.dilate(img, kernel, iterations = 5)\n",
    "cv2.imshow('Original Image', img)\n",
    "cv2.imshow('Dilation', img1)\n",
    "cv2.imshow('Over Dilation', img2)\n",
    "cv2.waitKey(0)\n",
    "cv2.destroyAllWindows()"
   ]
  },
  {
   "cell_type": "markdown",
   "id": "f8343375-bb11-474c-8835-b2fd9efbf10f",
   "metadata": {},
   "source": [
    "## <h2 style=\"color: blue;\"> 1.3.Opening <a id='Opening'></a></h2>"
   ]
  },
  {
   "cell_type": "markdown",
   "id": "bf48dd7c-8ce8-4739-a27a-6528bf18d976",
   "metadata": {},
   "source": [
    "<font color='#808080'>\n",
    "    \n",
    "Opening is a morphological operation that is a sequence of erosion and dilation operations. Erosion followed by Dilation is referred to as an opening operation in image processing.\n",
    "Performing erosion first on the image will result in the removal of small objects or noise in the image. Following this, the dilation operation will close any gaps that have been unintentionally caused due to the erosion operation before. "
   ]
  },
  {
   "cell_type": "code",
   "execution_count": 4,
   "id": "38e7d77f-384a-49ae-896f-7ad4942f6ecf",
   "metadata": {},
   "outputs": [],
   "source": [
    "# Generate a 300x300 image with a black background\n",
    "img = np.zeros((200, 450), np.uint8)\n",
    "# Draw the text “OPENING” on the image\n",
    "font = cv2.FONT_HERSHEY_SIMPLEX\n",
    "cv2.putText(img, 'OPENING', (15, 125), font , 3 , (255, 255, 255) , 5)\n",
    "# Add noise to the image\n",
    "noise = np.zeros((200, 450), np.uint8)\n",
    "cv2.randn(noise, 0, 50)\n",
    "noisy = cv2.add(img, noise)\n",
    "# Define a 5x5 kernel for the erosion and dilation operations\n",
    "kernel = np.ones((5, 5), np.uint8)\n",
    "# Perform erosion\n",
    "erosion = cv2.erode(img, kernel, iterations = 1)\n",
    "# Perform dilation on eroded image\n",
    "opening = cv2.dilate(erosion, kernel, iterations = 1)\n",
    "cv2.imshow('Original Image', img)\n",
    "cv2.imshow('Noisy Image', noisy)\n",
    "cv2.imshow('erosion', erosion)\n",
    "cv2.imshow('Opening Result', opening)\n",
    "cv2.waitKey(0)\n",
    "cv2.destroyAllWindows()"
   ]
  },
  {
   "cell_type": "markdown",
   "id": "d304e488-16d3-41e4-b8ff-e356c6cc9450",
   "metadata": {},
   "source": [
    "## <h2 style=\"color: blue;\"> 1.4.Cv2.morphologyex() <a id = 'Cv2.morphologyex()'></a></h2>"
   ]
  },
  {
   "cell_type": "markdown",
   "id": "8b869326-a7a1-4de7-92d3-83c7afd68a8b",
   "metadata": {},
   "source": [
    "<font color='#808080'>\n",
    "\n",
    "We will now use the inbuilt opening function to implement this operation in a single line. The ```cv2.Morphologyex()``` function enables us to do this operation.\n",
    "```python\n",
    "cv2.morphologyEx(src, dst, op, kernel, anchor = (-1,-1), iterations = 1, borderType = cv2.BORDER_CONSTANT, borderValue = 0)\n",
    "```\n",
    "__Parameters:__\n",
    "* ```src:``` The source image to be used for erosion.\n",
    "* ```dst:``` Output variable.\n",
    "* ```op:``` This specifies the type of operation to be performed in the image. The possible values for this parameter are:\n",
    "  - ```cv2.MORPH_OPEN:``` opening operation\n",
    "  - ```cv2.MORPH_CLOSE:``` closing operation\n",
    "  - ```cv2.MORPH_GRADIENT:``` morphological gradient\n",
    "  - ```cv2.MORPH_TOPHAT:``` top hat transform\n",
    "  - ```cv2.MORPH_BLACKHAT:``` black hat transform\n",
    "* ```kernel:``` This is the structuring element to be used for erosion. The default value is a __$3 /times 3$__ structuring element with all values set as __$1$__.\n",
    "* ```anchor:``` Reference point for the operation. This is an optional parameter with a default value of __$(-1,-1)$__ meaning that the anchor is at the of the kernel.\n",
    "* ```iterations:``` The number of times erosion will be applied to the image. This is with the default value defined as __$1$__.\n",
    "__$borderType:$__ This is the pixel extrapolation method, an optional parameter with a default value of __cv2.BORDER_CONSTANT__.\n",
    "* ```borderValue:``` This is used only with __cv2.BORDER_CONSTANT__ mode and specifies the constant value used to pad the image. It has a default value of __$0$__.\n"
   ]
  },
  {
   "cell_type": "code",
   "execution_count": 7,
   "id": "add1d197-7f2d-4db8-82e8-c3684a1a00eb",
   "metadata": {},
   "outputs": [],
   "source": [
    "# Generate a 300x300 image with a black background\n",
    "img = np.zeros((200, 450), np.uint8)\n",
    "# Draw the text “OPENING” on the image\n",
    "font = cv2.FONT_HERSHEY_SIMPLEX\n",
    "cv2.putText(img, 'OPENING', (15, 125), font, 3, (255, 255, 255), 5)\n",
    "# Add noise to the image\n",
    "noise = np.zeros((200, 450), np.uint8)\n",
    "cv2.randn(noise, 0, 50)\n",
    "img2 = cv2.add(img, noise)\n",
    "# Define a 5x5 kernel for the opening operation\n",
    "kernel = np.ones((5, 5), np.uint8)\n",
    "# Perform the opening operation on the image\n",
    "opening = cv2.morphologyEx(img, cv2.MORPH_OPEN, kernel)\n",
    "cv2.imshow('Noisy Image', img2)\n",
    "cv2.imshow('Opening Result', opening)\n",
    "cv2.waitKey(0)\n",
    "cv2.destroyAllWindows()"
   ]
  },
  {
   "cell_type": "code",
   "execution_count": null,
   "id": "488b6afa-8162-43c7-88a6-bbfab0c0cf10",
   "metadata": {},
   "outputs": [],
   "source": []
  }
 ],
 "metadata": {
  "kernelspec": {
   "display_name": "Python 3 (ipykernel)",
   "language": "python",
   "name": "python3"
  },
  "language_info": {
   "codemirror_mode": {
    "name": "ipython",
    "version": 3
   },
   "file_extension": ".py",
   "mimetype": "text/x-python",
   "name": "python",
   "nbconvert_exporter": "python",
   "pygments_lexer": "ipython3",
   "version": "3.11.9"
  }
 },
 "nbformat": 4,
 "nbformat_minor": 5
}
